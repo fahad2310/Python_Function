{
 "cells": [
  {
   "cell_type": "markdown",
   "metadata": {},
   "source": [
    "# Python Functions and Concepts\n",
    "This notebook contains answers to both **theory and practical** questions related to Python functions."
   ]
  },
  {
   "cell_type": "markdown",
   "metadata": {},
   "source": [
    "## 1. Difference between a function and a method\n",
    "\n",
    "A function is a block of reusable code that is defined using the def keyword and can be called independently. A method, on the other hand, is a function that is associated with an object and can only be called on that object."
   ]
  },
  {
   "cell_type": "code",
   "execution_count": 23,
   "metadata": {},
   "outputs": [],
   "source": [
    "def add(a, b):\n",
    "    return a + b  # Function\n",
    "\n",
    "class Example:\n",
    "    def multiply(self, a, b):\n",
    "        return a * b  # Method"
   ]
  },
  {
   "cell_type": "markdown",
   "metadata": {},
   "source": [
    "## 2. Explain the concept of Function arguments and parameters\n",
    "Parameters are the variables listed in the function definition, whereas arguments are the values passed to the function when it is called."
   ]
  },
  {
   "cell_type": "code",
   "execution_count": 24,
   "metadata": {},
   "outputs": [
    {
     "name": "stdout",
     "output_type": "stream",
     "text": [
      "Hello, Alice!\n"
     ]
    }
   ],
   "source": [
    "def greet(name):  # 'name' is a parameter\n",
    "    return f\"Hello, {name}!\"\n",
    "print(greet(\"Alice\"))  # \"Alice\" is an argument"
   ]
  },
  {
   "cell_type": "markdown",
   "metadata": {},
   "source": [
    "## 3. Different ways to define and call a function in Python?\n",
    "\n",
    "Functions can be defined using def, lambda functions, and built-in functions.\n",
    "\n",
    "They can be called using positional arguments, keyword arguments, and unpacking operators.\n",
    "\n",
    "Example:"
   ]
  },
  {
   "cell_type": "code",
   "execution_count": 25,
   "metadata": {},
   "outputs": [
    {
     "name": "stdout",
     "output_type": "stream",
     "text": [
      "7\n"
     ]
    }
   ],
   "source": [
    "def add(x, y):\n",
    "    return x + y\n",
    "print(add(3, 4))  # Positional argument"
   ]
  },
  {
   "cell_type": "markdown",
   "metadata": {},
   "source": [
    "## 4. What is the purpose of the return statement in a Python function?\n",
    "\n",
    "The return statement is used to send back a value from a function to the caller."
   ]
  },
  {
   "cell_type": "code",
   "execution_count": 26,
   "metadata": {},
   "outputs": [
    {
     "name": "stdout",
     "output_type": "stream",
     "text": [
      "25\n"
     ]
    }
   ],
   "source": [
    "def square(x):\n",
    "    return x * x\n",
    "print(square(5))"
   ]
  },
  {
   "cell_type": "markdown",
   "metadata": {},
   "source": [
    "## 5. What are iterators in Python and how do they differ from iterables?\n",
    "\n",
    "Iterators implement the __iter__() and __next__() methods and can be traversed using next(). Iterables are objects that can return an iterator using iter().\n",
    "\n",
    "Example:"
   ]
  },
  {
   "cell_type": "code",
   "execution_count": 27,
   "metadata": {},
   "outputs": [
    {
     "name": "stdout",
     "output_type": "stream",
     "text": [
      "1\n"
     ]
    }
   ],
   "source": [
    "lst = [1, 2, 3]  # Iterable\n",
    "it = iter(lst)  # Iterator\n",
    "print(next(it))  # 1"
   ]
  },
  {
   "cell_type": "markdown",
   "metadata": {},
   "source": [
    "## 6. Explain the concept of generators and how they are defined.\n",
    "\n",
    "Generators are a special type of iterator that use yield to return values lazily.\n",
    "\n",
    "Example:"
   ]
  },
  {
   "cell_type": "code",
   "execution_count": 28,
   "metadata": {},
   "outputs": [
    {
     "name": "stdout",
     "output_type": "stream",
     "text": [
      "1\n"
     ]
    }
   ],
   "source": [
    "def gen_numbers():\n",
    "    yield 1\n",
    "    yield 2\n",
    "g = gen_numbers()\n",
    "print(next(g))  # 1"
   ]
  },
  {
   "cell_type": "markdown",
   "metadata": {},
   "source": [
    "## 7. Advantages of using generators over regular functions?\n",
    "\n",
    "Generators use less memory and allow for lazy evaluation.\n",
    "\n",
    "They are useful for handling large datasets efficiently."
   ]
  },
  {
   "cell_type": "markdown",
   "metadata": {},
   "source": [
    "## 8. What is a lambda function in Python and when is it used?\n",
    "\n",
    "A lambda function is an anonymous function defined using lambda.\n",
    "\n",
    "Example:"
   ]
  },
  {
   "cell_type": "code",
   "execution_count": 29,
   "metadata": {},
   "outputs": [
    {
     "name": "stdout",
     "output_type": "stream",
     "text": [
      "7\n"
     ]
    }
   ],
   "source": [
    "add = lambda x, y: x + y\n",
    "print(add(3, 4))"
   ]
  },
  {
   "cell_type": "markdown",
   "metadata": {},
   "source": [
    "## 9. Purpose and usage of map() function?\n",
    "\n",
    "The map() function applies a given function to each item in an iterable.\n",
    "\n",
    "Example:"
   ]
  },
  {
   "cell_type": "code",
   "execution_count": 30,
   "metadata": {},
   "outputs": [],
   "source": [
    "nums = [1, 2, 3]\n",
    "squares = list(map(lambda x: x * x, nums))"
   ]
  },
  {
   "cell_type": "markdown",
   "metadata": {},
   "source": [
    "## 10. Difference between map(), reduce(), and filter()?\n",
    "\n",
    "map(): Applies a function to all elements.\n",
    "\n",
    "reduce(): Performs a rolling computation.\n",
    "\n",
    "filter(): Filters elements based on a condition.\n",
    "\n",
    "Example:"
   ]
  },
  {
   "cell_type": "code",
   "execution_count": 31,
   "metadata": {},
   "outputs": [
    {
     "name": "stdout",
     "output_type": "stream",
     "text": [
      "[2]\n",
      "6\n"
     ]
    }
   ],
   "source": [
    "from functools import reduce\n",
    "nums = [1, 2, 3]\n",
    "print(list(filter(lambda x: x % 2 == 0, nums)))\n",
    "print(reduce(lambda x, y: x + y, nums))"
   ]
  },
  {
   "cell_type": "markdown",
   "metadata": {},
   "source": [
    "## Practical Questions"
   ]
  },
  {
   "cell_type": "markdown",
   "metadata": {},
   "source": [
    "### 1. Function to sum even numbers in a list"
   ]
  },
  {
   "cell_type": "code",
   "execution_count": null,
   "metadata": {},
   "outputs": [],
   "source": [
    "def sum_even(lst):\n",
    "    return sum(num for num in lst if num % 2 == 0)"
   ]
  },
  {
   "cell_type": "markdown",
   "metadata": {},
   "source": [
    "### 2. Function to reverse a string"
   ]
  },
  {
   "cell_type": "code",
   "execution_count": null,
   "metadata": {},
   "outputs": [],
   "source": [
    "def reverse_string(s):\n",
    "    return s[::-1]"
   ]
  },
  {
   "cell_type": "markdown",
   "metadata": {},
   "source": [
    "### 3. Function to return squares of list elements"
   ]
  },
  {
   "cell_type": "code",
   "execution_count": null,
   "metadata": {},
   "outputs": [],
   "source": [
    "def square_list(lst):\n",
    "    return [x ** 2 for x in lst]"
   ]
  },
  {
   "cell_type": "markdown",
   "metadata": {},
   "source": [
    "### 4. Check prime numbers from 1 to 200"
   ]
  },
  {
   "cell_type": "code",
   "execution_count": null,
   "metadata": {},
   "outputs": [],
   "source": [
    "def is_prime(n):\n",
    "    if n < 2:\n",
    "        return False\n",
    "    for i in range(2, int(n**0.5) + 1):\n",
    "        if n % i == 0:\n",
    "            return False\n",
    "    return True\n",
    "\n",
    "primes = [n for n in range(1, 201) if is_prime(n)]"
   ]
  },
  {
   "cell_type": "markdown",
   "metadata": {},
   "source": [
    "### 5. Iterator class for Fibonacci sequence"
   ]
  },
  {
   "cell_type": "code",
   "execution_count": null,
   "metadata": {},
   "outputs": [],
   "source": [
    "class Fibonacci:\n",
    "    def __init__(self, terms):\n",
    "        self.a, self.b = 0, 1\n",
    "        self.terms = terms\n",
    "    def __iter__(self):\n",
    "        return self\n",
    "    def __next__(self):\n",
    "        if self.terms <= 0:\n",
    "            raise StopIteration\n",
    "        self.a, self.b = self.b, self.a + self.b\n",
    "        self.terms -= 1\n",
    "        return self.a"
   ]
  },
  {
   "cell_type": "code",
   "execution_count": null,
   "metadata": {},
   "outputs": [],
   "source": [
    "def powers_of_2(n):\n",
    "    for i in range(n + 1):\n",
    "        yield 2 ** i"
   ]
  },
  {
   "cell_type": "code",
   "execution_count": null,
   "metadata": {},
   "outputs": [],
   "source": [
    "def read_lines(filename):\n",
    "    with open(filename, 'r') as file:\n",
    "        for line in file:\n",
    "            yield line.strip()"
   ]
  },
  {
   "cell_type": "code",
   "execution_count": null,
   "metadata": {},
   "outputs": [],
   "source": [
    "tuples_list = [(1, 3), (2, 2), (3, 1)]\n",
    "sorted_list = sorted(tuples_list, key=lambda x: x[1])"
   ]
  },
  {
   "cell_type": "markdown",
   "metadata": {},
   "source": [
    "### 9. Convert Celsius to Fahrenheit using `map()`"
   ]
  },
  {
   "cell_type": "code",
   "execution_count": null,
   "metadata": {},
   "outputs": [],
   "source": [
    "celsius = [0, 20, 30]\n",
    "fahrenheit = list(map(lambda x: (x * 9/5) + 32, celsius))"
   ]
  },
  {
   "cell_type": "markdown",
   "metadata": {},
   "source": [
    "### 10. Remove vowels from a string using `filter()`"
   ]
  },
  {
   "cell_type": "code",
   "execution_count": null,
   "metadata": {},
   "outputs": [],
   "source": [
    "def remove_vowels(s):\n",
    "    return ''.join(filter(lambda x: x.lower() not in 'aeiou', s))"
   ]
  },
  {
   "cell_type": "code",
   "execution_count": null,
   "metadata": {},
   "outputs": [],
   "source": [
    "orders = [(123, 4, 10.0), (124, 2, 50.0)]\n",
    "result = list(map(lambda x: (x[0], x[1] * x[2] + (10 if x[1] * x[2] < 100 else 0)), orders))"
   ]
  }
 ],
 "metadata": {
  "kernelspec": {
   "display_name": "Python 3 (ipykernel)",
   "language": "python",
   "name": "python3"
  },
  "language_info": {
   "codemirror_mode": {
    "name": "ipython",
    "version": 3
   },
   "file_extension": ".py",
   "mimetype": "text/x-python",
   "name": "python",
   "nbconvert_exporter": "python",
   "pygments_lexer": "ipython3",
   "version": "3.11.5"
  }
 },
 "nbformat": 4,
 "nbformat_minor": 4
}
